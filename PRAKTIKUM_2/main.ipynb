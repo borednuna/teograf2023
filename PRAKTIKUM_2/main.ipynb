{
 "cells": [
  {
   "cell_type": "markdown",
   "metadata": {},
   "source": [
    "# KNIGHT'S TOUR PROBLEM"
   ]
  },
  {
   "cell_type": "markdown",
   "metadata": {},
   "source": [
    "## PROBLEM\n",
    "<img src=\"../img/task2.jpeg\" width=\"500\"><br/>\n",
    "\n",
    "Jika sebuah bidak kuda diletakkan pada sebarang kotak untuk kemudian melakukan perjalanan (dengan cara pergerakan kuda) mengunjungi ke semua (8 x 8) kotak papan catur.\n",
    "\n",
    "Jika diinginkan situasi bahwa kuda tsb dapat:\n",
    "- Mengakhiri perjalanan pada attacking square (closed tour);\n",
    "- Mengakhiri perjalanan di sebarang kotak (open tour);\n",
    "\n",
    "Maka aplikasikan algoritma untuk menyelesaikan masalah di atas ke dalam sebuah program dengan menunjukkan rute perjalanan seperti gambar kanan bawah."
   ]
  },
  {
   "cell_type": "markdown",
   "metadata": {},
   "source": [
    "## PEMBAHASAN\n",
    "Untuk menyelesaikan problem Knight's Tour, pergerakan Knight pada catur dapat direpresentasikan menggunakan graf. \n",
    "\n",
    "Penyelesaian problem ini mirip dengan Hamilton's Tour karena harus mengunjungi semua node atau vertex (dalam hal ini kotak catur) yang ada. Namun, Hamilton's Tour mensyaratkan untuk Knight berhenti di kotak yang sama dengan kotak saat Knight memulai tour (closed tour). Dalam Knight's Tour, path yang didapat tidak selalu didapatkan closed tour. Terkadang Knight berhenti di kotak yang berbeda dari kotak mulainya (open tour).\n",
    "\n",
    "Knight's Tour juga tidak termasuk ke dalam Euler's Tour karena Euler's Tour mensyaratkan untuk mengunjungi semua edge yang ada, sedangkan Knight's Tour mensyaratkan untuk mengunjungi semua vertex dan tidak mensyaratkan untuk mengunjungi semua edge."
   ]
  },
  {
   "cell_type": "markdown",
   "metadata": {},
   "source": [
    "## SOLUSI\n",
    "Dalam kode berikut, digunakan `networkx` untuk membuat graf, `tkinter` untuk visualisasi chessboard, dan `tqdm` untuk melihat progres traversal."
   ]
  },
  {
   "cell_type": "code",
   "execution_count": 1,
   "metadata": {},
   "outputs": [
    {
     "name": "stdout",
     "output_type": "stream",
     "text": [
      "Defaulting to user installation because normal site-packages is not writeable\n",
      "Requirement already satisfied: networkx in /home/nuna/.local/lib/python3.10/site-packages (3.1)\n",
      "\u001b[31mERROR: Could not find a version that satisfies the requirement tkinter (from versions: none)\u001b[0m\u001b[31m\n",
      "\u001b[0m\u001b[31mERROR: No matching distribution found for tkinter\u001b[0m\u001b[31m\n",
      "\u001b[0m"
     ]
    }
   ],
   "source": [
    "!pip install networkx tkinter tqdm"
   ]
  },
  {
   "cell_type": "code",
   "execution_count": 2,
   "metadata": {},
   "outputs": [],
   "source": [
    "import networkx as nx\n",
    "import tkinter as tk\n",
    "from tqdm import tqdm"
   ]
  },
  {
   "cell_type": "markdown",
   "metadata": {},
   "source": [
    "Dibuat class Knight yang memiliki atribut dan fungsi yang dibutuhkan"
   ]
  },
  {
   "cell_type": "code",
   "execution_count": 3,
   "metadata": {},
   "outputs": [],
   "source": [
    "class Knight:\n",
    "    def __init__(self) -> None:\n",
    "        self.chessboard = nx.Graph()\n",
    "        self.rows = 8\n",
    "        self.cols = 8\n",
    "\n",
    "        for row in range(self.rows):\n",
    "            for col in range(self.cols):\n",
    "                square = (row, col)\n",
    "                self.chessboard.add_node(square)\n",
    "\n",
    "        self.legal_moves = [(-2, -1), (-2, 1), (-1, -2), (-1, 2),\n",
    "                            (1, -2), (1, 2), (2, -1), (2, 1)]\n",
    "\n",
    "        for node in self.chessboard.nodes():\n",
    "            for move in self.legal_moves:\n",
    "                next_row, next_col = node[0] + move[0], node[1] + move[1]\n",
    "                if 0 <= next_row < self.rows and 0 <= next_col < self.cols:\n",
    "                    target_square = (next_row, next_col)\n",
    "                    self.chessboard.add_edge(node, target_square)\n",
    "\n",
    "    def print_tour(self, path):\n",
    "        for square in path:\n",
    "            row = chr(square[0] + 97)\n",
    "            col = square[1] + 1\n",
    "            print(row + str(col), end=\" \")\n",
    "        print()\n",
    "\n",
    "    def visualize_tour(self, path):\n",
    "        window = tk.Tk()\n",
    "        window.title(\"Knight's Tour\")\n",
    "        window.geometry(\"500x500\")\n",
    "\n",
    "        canvas = tk.Canvas(window, width=500, height=500)\n",
    "        canvas.pack()\n",
    "\n",
    "        for row in range(self.rows):\n",
    "            for col in range(self.cols):\n",
    "                if (row + col) % 2 == 0:\n",
    "                    color = \"white\"\n",
    "                else:\n",
    "                    color = \"black\"\n",
    "                canvas.create_rectangle(row * 50, col * 50, (row + 1) * 50, (col + 1) * 50, fill=color)\n",
    "\n",
    "        for i in range(len(path) - 1):\n",
    "            canvas.create_line(path[i][0] * 50 + 25, path[i][1] * 50 + 25, path[i + 1][0] * 50 + 25, path[i + 1][1] * 50 + 25, width=3, fill=\"red\")\n",
    "\n",
    "        window.mainloop()\n",
    "\n",
    "    def knight_tour(self, start):\n",
    "        path = [start]\n",
    "        visited = [start]\n",
    "        with tqdm(total=self.rows * self.cols) as pbar:  # Create a tqdm progress bar\n",
    "            self._knight_tour(start, visited, path, pbar)\n",
    "        return path\n",
    "\n",
    "    def _knight_tour(self, current, visited, path, pbar):\n",
    "        if len(visited) == self.rows * self.cols:\n",
    "            pbar.update(1)\n",
    "            return True\n",
    "\n",
    "        for neighbor in self.chessboard.neighbors(current):\n",
    "            if neighbor not in visited:\n",
    "                visited.append(neighbor)\n",
    "                path.append(neighbor)\n",
    "                if self._knight_tour(neighbor, visited, path, pbar):\n",
    "                    return True\n",
    "                visited.pop()\n",
    "                path.pop()\n",
    "                pbar.update(1)"
   ]
  },
  {
   "cell_type": "markdown",
   "metadata": {},
   "source": [
    "Class Knight diinisialisasi dengan chessboard sebagai variable networkx.Graph, dengan kolom dan baris chessboard sebanyak 8. Lalu untuk setiap kotak chessboard ditambahkan sebagai node / vertex pada variabel chessboard.\n",
    "\n",
    "Untuk pergerakan legal Knight, didefinisikan legal_moves yang merepresentasikan pergerakan berikut.\n",
    "<img src=\"../img/legal_moves.jpeg\" width=\"500\"><br/>\n",
    "\n",
    "Lalu untuk setiap vertex yang telah ditambahkan ke chessboard, didefinisikan edge dan vertex tetangganya sesuai legal_moves.\n",
    "\n",
    "Fungsi utility print_tour untuk mencetak node yang dilalui path setelah melakukan traversal. Fungsi utility visualize_tour untuk membuat visualisasi dari chessboard dan pathnya setelah traversal.\n",
    "\n",
    "Fungsi utama knight_tour merupakan fungsi yang akan mengimplementasikan traversal pada chessboard. Fungsi ini menerima parameter `start` sebagai titik mulai teraversal. Node `start` tersebut di-append ke array `path` dan `visited`. Fungsi knight_tour kemudian memanggil fungsi utility _knight_tour\n",
    "\n",
    "Fungsi _knight_tour secara rekursif mengunjungi node-node neighbour dan mencatatnya di array visited dan path. Jika total node yang ada di visited adalah 64, maka fungsi tersebut akan mengembalikan nilai true dan path traversal."
   ]
  },
  {
   "cell_type": "markdown",
   "metadata": {},
   "source": [
    "Pada main program, diinstansiasi objek knight, dilakukan traversal dan disimpan pathnya di variabel path, kemudian divisualisasikan"
   ]
  },
  {
   "cell_type": "code",
   "execution_count": 4,
   "metadata": {},
   "outputs": [
    {
     "name": "stderr",
     "output_type": "stream",
     "text": [
      "787485it [00:02, 352117.83it/s]       \n"
     ]
    },
    {
     "name": "stdout",
     "output_type": "stream",
     "text": [
      "e1 c2 a1 b3 a5 b7 c5 a4 b2 c4 a3 b1 c3 a2 b4 a6 b8 c6 a7 b5 c7 a8 b6 c8 d6 e4 d2 f1 e3 d1 f2 d3 c1 e2 d4 e6 d8 f7 h8 g6 e5 d7 f8 h7 g5 h3 g1 f3 h2 g4 h6 f5 h4 g2 f4 d5 e7 g8 f6 e8 g7 h5 g3 h1 \n"
     ]
    }
   ],
   "source": [
    "knight = Knight()\n",
    "path = knight.knight_tour((4, 0))\n",
    "knight.print_tour(path)\n",
    "knight.visualize_tour(path)"
   ]
  },
  {
   "cell_type": "markdown",
   "metadata": {},
   "source": [
    "Contoh visualisasi tour path dengan input (4,0) sebagai berikut<br/>\n",
    "<img src=\"../img/knights_tour.jpeg\" width=\"500\"><br/>"
   ]
  }
 ],
 "metadata": {
  "kernelspec": {
   "display_name": "Python 3",
   "language": "python",
   "name": "python3"
  },
  "language_info": {
   "codemirror_mode": {
    "name": "ipython",
    "version": 3
   },
   "file_extension": ".py",
   "mimetype": "text/x-python",
   "name": "python",
   "nbconvert_exporter": "python",
   "pygments_lexer": "ipython3",
   "version": "3.10.12"
  },
  "orig_nbformat": 4
 },
 "nbformat": 4,
 "nbformat_minor": 2
}
