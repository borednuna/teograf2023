{
 "cells": [
  {
   "cell_type": "markdown",
   "metadata": {},
   "source": [
    "# Largest Monotomically Increasing Subsequence"
   ]
  },
  {
   "cell_type": "markdown",
   "metadata": {},
   "source": [
    "## PROBLEM\n",
    "<img src=\"../img/task1.jpeg\" width=\"500\"><br/>\n",
    "Implemantasikan sebuah program untuk menyelesaikan permasalahan “Largest Monotonically Increasing Subsequence\""
   ]
  },
  {
   "cell_type": "markdown",
   "metadata": {},
   "source": [
    "## PEMBAHASAN\n",
    "Dalam penyelesaian soal ini, digunakan binary search tree dengan dynamic programming untuk menemukan Largest Monotonomically Increasing Subsequence (LMIS).\n",
    "\n",
    "Pada binary search tree (BST), barisan bilangan atau sekuens diinputkan secara terurut dan kanan-kirinya relatif pada node parent masing-masing bilangan. Bilangan urutan pertama akan menjadi root node BST. Lalu bilangan kedua akan diinput sebagai child node kanan jika nilainya lebih besar dari bilangan pertama. Sebaliknya jika bilangan kedua lebih kecil daripada bilangan pertama, maka akan diinput sebagai child node kiri. Hal tersebut dilakukan secara rekursif hingga akhir sekuens. Sehingga untuk mencari urutan bilangan yang terus naik nilainya, cukup dilakukan traversal ke arah kanan dari root ke leaf."
   ]
  },
  {
   "cell_type": "markdown",
   "metadata": {},
   "source": [
    "## SOLUSI\n",
    "Didefinisikan class TreeNode sebagai node tree yang berisi pointer ke child kanan node, pointer ke child kiri, dan key atau value yang dimiliki oleh node itu sendiri."
   ]
  },
  {
   "cell_type": "code",
   "execution_count": 1,
   "metadata": {},
   "outputs": [],
   "source": [
    "class TreeNode:\n",
    "    def __init__(self, key):\n",
    "        self.key = key\n",
    "        self.left = None\n",
    "        self.right = None"
   ]
  },
  {
   "cell_type": "markdown",
   "metadata": {},
   "source": [
    "Didefinisikan class BinarySearchTree yang saat diinstansiasi menerima argumen array yang nantinya akan diinputkan sebagai elemen penyusun BST menggunakan method insert secara iteratif. Cara insert node baru adalah seperti insert pada BST umumnya dimana key yang diinputkan akan dibandingkan (ke arah child node kanan jika key input lebih besar atau ke arah child node kiri jika key input lebih kecil) secara rekursi sehingga mencapai leaf.\n",
    "\n",
    "Method traverse_right() dapat dipanggil untuk melakukan traversal dari root ke leaf paling kanan dan mencatat key yang dilalui dalam array lmis."
   ]
  },
  {
   "cell_type": "code",
   "execution_count": 2,
   "metadata": {},
   "outputs": [],
   "source": [
    "class BinarySearchTree:\n",
    "    def __init__(self, array) -> None:\n",
    "        self.root = None\n",
    "        self.lmis = []\n",
    "\n",
    "        for i in range(len(array)):\n",
    "            self.root = self.insert(self.root, array[i])\n",
    "\n",
    "    def insert(self, root, key):\n",
    "        if root is None:\n",
    "            return TreeNode(key)\n",
    "        else:\n",
    "            if root.key == key:\n",
    "                return root\n",
    "            elif root.key < key:\n",
    "                root.right = self.insert(root.right, key)\n",
    "            else:\n",
    "                root.left = self.insert(root.left, key)\n",
    "        return root\n",
    "    \n",
    "    def traverse_right(self, root):\n",
    "        if root is None:\n",
    "            return\n",
    "        else:\n",
    "            self.lmis.append(root.key)\n",
    "            self.traverse_right(root.right)"
   ]
  },
  {
   "cell_type": "markdown",
   "metadata": {},
   "source": [
    "Untuk menggunakan BST untuk menemukan lmis suatu sekuens, diinstansiasi variabel BST, kemudian dipanggil method traverse_right, kemudian value lmis-nya diprint."
   ]
  },
  {
   "cell_type": "code",
   "execution_count": 3,
   "metadata": {},
   "outputs": [
    {
     "name": "stdout",
     "output_type": "stream",
     "text": [
      "[3, 9, 10]\n"
     ]
    }
   ],
   "source": [
    "input = [3, 1, 9, 7, 5, 10, 8, 2, 4, 6]\n",
    "\n",
    "bst = BinarySearchTree(input)\n",
    "bst.traverse_right(bst.root)\n",
    "print(bst.lmis)"
   ]
  },
  {
   "cell_type": "markdown",
   "metadata": {},
   "source": [
    "Gambaran BST untuk array [3, 1, 9, 7, 5, 10, 8, 2, 4, 6] dapat dilihat sebagai berikut. <br/>\n",
    "<img src=\"../img/tree.jpeg\" width=\"600\"><br/>\n",
    "Traversal dari root ke leaf paling kanan adalah 3 - 9 - 10"
   ]
  }
 ],
 "metadata": {
  "kernelspec": {
   "display_name": "Python 3",
   "language": "python",
   "name": "python3"
  },
  "language_info": {
   "codemirror_mode": {
    "name": "ipython",
    "version": 3
   },
   "file_extension": ".py",
   "mimetype": "text/x-python",
   "name": "python",
   "nbconvert_exporter": "python",
   "pygments_lexer": "ipython3",
   "version": "3.10.12"
  },
  "orig_nbformat": 4
 },
 "nbformat": 4,
 "nbformat_minor": 2
}
